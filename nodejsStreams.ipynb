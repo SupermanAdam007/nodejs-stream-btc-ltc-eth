{
 "cells": [
  {
   "cell_type": "code",
   "execution_count": 84,
   "metadata": {
    "collapsed": true
   },
   "outputs": [],
   "source": [
    "import os, glob, time, pandas as pd"
   ]
  },
  {
   "cell_type": "code",
   "execution_count": 85,
   "metadata": {
    "collapsed": true
   },
   "outputs": [],
   "source": [
    "def get_file_last_time_of_change(fname):\n",
    "    try:\n",
    "        mtime = os.path.getmtime(fname)\n",
    "    except OSError:\n",
    "        mtime = 0\n",
    "    return mtime"
   ]
  },
  {
   "cell_type": "code",
   "execution_count": 86,
   "metadata": {
    "collapsed": true
   },
   "outputs": [],
   "source": [
    "def process_changed_files(list_of_changed_files):\n",
    "    for fname in list_of_changed_files:\n",
    "        if '0~' in fname:\n",
    "            update_trade(fname)\n",
    "        elif '2~' in fname:\n",
    "            update_current(fname)"
   ]
  },
  {
   "cell_type": "code",
   "execution_count": 87,
   "metadata": {
    "collapsed": true
   },
   "outputs": [],
   "source": [
    "################# UPDATING ##################"
   ]
  },
  {
   "cell_type": "code",
   "execution_count": 88,
   "metadata": {},
   "outputs": [],
   "source": [
    "main_batch_max_len = 300   # 5 min\n",
    "main_batch = pd.DataFrame({'Timestamp': 0, 'curr_BTC_USD': 0, 'curr_ETH_USD': 0,\n",
    "                           'curr_LTC_USD': 0, 'curr_ETH_BTC': 0, 'curr_LTC_BTC': 0,\n",
    "                           'tr_BTC_USD_buy': 0, 'tr_ETH_USD_buy': 0, 'tr_LTC_USD_buy': 0,\n",
    "                           'tr_ETH_BTC_buy': 0, 'tr_LTC_BTC_buy': 0, 'tr_BTC_USD_sell': 0,\n",
    "                           'tr_ETH_USD_sell': 0, 'tr_LTC_USD_sell': 0, 'tr_ETH_BTC_sell': 0,\n",
    "                           'tr_LTC_BTC_sell': 0}, index = [0])\n",
    "fname_dict = {'2~Poloniex~BTC~USD.dat': 'curr_BTC_USD', '2~Poloniex~ETH~BTC.dat': 'curr_ETH_BTC',\n",
    "              '2~Poloniex~ETH~USD.dat': 'curr_ETH_USD', '2~Poloniex~LTC~BTC.dat': 'curr_LTC_BTC',\n",
    "              '2~Poloniex~LTC~USD.dat': 'curr_LTC_USD'}"
   ]
  },
  {
   "cell_type": "code",
   "execution_count": 89,
   "metadata": {
    "collapsed": true
   },
   "outputs": [],
   "source": [
    "def load_trade(fname):\n",
    "    return pd.read_csv(fname, sep=\";\", header = None, names = ['Timestamp', 'Flag', 'Total'])"
   ]
  },
  {
   "cell_type": "code",
   "execution_count": 90,
   "metadata": {
    "collapsed": true
   },
   "outputs": [],
   "source": [
    "def load_current(fname):\n",
    "    return pd.read_csv(fname, sep=\";\", header = None, names = ['Timestamp', 'Value'])"
   ]
  },
  {
   "cell_type": "code",
   "execution_count": 91,
   "metadata": {
    "collapsed": true
   },
   "outputs": [],
   "source": [
    "def update_trade(fname):\n",
    "    print(time.asctime(time.localtime(time.time())), 'Updating trade:', fname)\n",
    "    df_new_trade = time_repair_trade(load_trade(fname))"
   ]
  },
  {
   "cell_type": "code",
   "execution_count": 92,
   "metadata": {
    "collapsed": true
   },
   "outputs": [],
   "source": [
    "def update_current(fname):\n",
    "    print(time.asctime(time.localtime(time.time())), 'Updating current:', fname)\n",
    "    df_new_current = time_repair_current(load_current(fname))\n",
    "    print(df_new_current)"
   ]
  },
  {
   "cell_type": "code",
   "execution_count": 93,
   "metadata": {},
   "outputs": [],
   "source": [
    "def get_t_list(df):\n",
    "    return list(range(int(min(df.Timestamp)), int(max(df.Timestamp))))"
   ]
  },
  {
   "cell_type": "code",
   "execution_count": 98,
   "metadata": {
    "collapsed": true
   },
   "outputs": [],
   "source": [
    "def time_repair_trade(df_new_trade):\n",
    "    t_list = get_t_list(df_new_trade)\n",
    "    #df_new_trade_repaired = pd.DataFrame({''})"
   ]
  },
  {
   "cell_type": "code",
   "execution_count": 117,
   "metadata": {},
   "outputs": [],
   "source": [
    "def time_repair_current(df_new_current):\n",
    "    t_list = get_t_list(df_new_current)\n",
    "    df_new_current_repaired = pd.DataFrame({'Timestamp': t_list, 'Value': 0})\n",
    "    #df_new_current_repaired[df_new_current_repaired.Timestamp == df_new_current.Timestamp].Value = df_new_current.Value\n",
    "    return pd.merge(df_new_current, df_new_current_repaired, on=['Timestamp'])\n",
    "    #for tt in t_list:\n",
    "    #    df_new_current_repaired.Price[df_current_repaired.Timestamp == tt] = df_new_current[df_new_current.Timestamp == tt].Price"
   ]
  },
  {
   "cell_type": "code",
   "execution_count": 118,
   "metadata": {
    "collapsed": true
   },
   "outputs": [],
   "source": [
    "################# MAIN LOOP ##################"
   ]
  },
  {
   "cell_type": "code",
   "execution_count": 119,
   "metadata": {
    "scrolled": false
   },
   "outputs": [
    {
     "name": "stdout",
     "output_type": "stream",
     "text": [
      "Wed Jun 28 13:17:43 2017 Updating trade: .\\data\\24977478\\0~Poloniex~LTC~USD.dat\n",
      "Wed Jun 28 13:17:43 2017 Updating current: .\\data\\24977478\\2~Poloniex~LTC~USD.dat\n",
      "    Timestamp   Value_x  Value_y\n",
      "0  1498648607  39.11191        0\n",
      "1  1498648611  39.11191        0\n",
      "Wed Jun 28 13:17:45 2017 Updating trade: .\\data\\24977478\\0~Poloniex~LTC~BTC.dat\n",
      "Wed Jun 28 13:17:45 2017 Updating current: .\\data\\24977478\\2~Poloniex~LTC~BTC.dat\n",
      "     Timestamp   Value_x  Value_y\n",
      "0   1498648624  0.015924        0\n",
      "1   1498648627  0.015924        0\n",
      "2   1498648629  0.015924        0\n",
      "3   1498648635  0.015924        0\n",
      "4   1498648636  0.015924        0\n",
      "5   1498648641  0.015925        0\n",
      "6   1498648641  0.015929        0\n",
      "7   1498648643  0.015929        0\n",
      "8   1498648643  0.015935        0\n",
      "9   1498648643  0.015938        0\n",
      "10  1498648643  0.015938        0\n",
      "11  1498648643  0.015940        0\n",
      "12  1498648643  0.015941        0\n",
      "13  1498648643  0.015945        0\n",
      "14  1498648643  0.015948        0\n",
      "15  1498648643  0.015950        0\n",
      "16  1498648648  0.015950        0\n",
      "17  1498648649  0.015924        0\n",
      "18  1498648649  0.015924        0\n",
      "19  1498648657  0.015929        0\n",
      "20  1498648657  0.015929        0\n",
      "21  1498648659  0.015924        0\n",
      "22  1498648659  0.015923        0\n",
      "23  1498648659  0.015907        0\n",
      "24  1498648660  0.015935        0\n",
      "Wed Jun 28 13:17:46 2017 Updating trade: .\\data\\24977478\\0~Poloniex~BTC~USD.dat\n",
      "Wed Jun 28 13:17:46 2017 Updating trade: .\\data\\24977478\\0~Poloniex~LTC~BTC.dat\n",
      "Wed Jun 28 13:17:46 2017 Updating current: .\\data\\24977478\\2~Poloniex~BTC~USD.dat\n",
      "     Timestamp      Value_x  Value_y\n",
      "0   1498648602  2453.500000        0\n",
      "1   1498648602  2453.644484        0\n",
      "2   1498648606  2453.644484        0\n",
      "3   1498648610  2453.500000        0\n",
      "4   1498648610  2453.193799        0\n",
      "5   1498648610  2453.193799        0\n",
      "6   1498648610  2453.644484        0\n",
      "7   1498648615  2453.644484        0\n",
      "8   1498648617  2453.644484        0\n",
      "9   1498648626  2453.644000        0\n",
      "10  1498648630  2453.644000        0\n",
      "11  1498648637  2453.644000        0\n",
      "12  1498648638  2453.644000        0\n",
      "13  1498648643  2453.644000        0\n",
      "14  1498648647  2453.644000        0\n",
      "15  1498648651  2453.644000        0\n",
      "16  1498648652  2453.644000        0\n",
      "17  1498648653  2453.644000        0\n",
      "18  1498648658  2453.533591        0\n",
      "19  1498648658  2453.514448        0\n",
      "20  1498648658  2453.514448        0\n",
      "21  1498648658  2453.193799        0\n",
      "22  1498648658  2453.193799        0\n",
      "23  1498648658  2452.517460        0\n",
      "24  1498648658  2452.517460        0\n",
      "25  1498648658  2452.517460        0\n",
      "26  1498648658  2452.084132        0\n",
      "27  1498648658  2452.000000        0\n",
      "Wed Jun 28 13:17:46 2017 Updating current: .\\data\\24977478\\2~Poloniex~LTC~BTC.dat\n",
      "     Timestamp   Value_x  Value_y\n",
      "0   1498648624  0.015924        0\n",
      "1   1498648627  0.015924        0\n",
      "2   1498648629  0.015924        0\n",
      "3   1498648635  0.015924        0\n",
      "4   1498648636  0.015924        0\n",
      "5   1498648641  0.015925        0\n",
      "6   1498648641  0.015929        0\n",
      "7   1498648643  0.015929        0\n",
      "8   1498648643  0.015935        0\n",
      "9   1498648643  0.015938        0\n",
      "10  1498648643  0.015938        0\n",
      "11  1498648643  0.015940        0\n",
      "12  1498648643  0.015941        0\n",
      "13  1498648643  0.015945        0\n",
      "14  1498648643  0.015948        0\n",
      "15  1498648643  0.015950        0\n",
      "16  1498648648  0.015950        0\n",
      "17  1498648649  0.015924        0\n",
      "18  1498648649  0.015924        0\n",
      "19  1498648657  0.015929        0\n",
      "20  1498648657  0.015929        0\n",
      "21  1498648659  0.015924        0\n",
      "22  1498648659  0.015923        0\n",
      "23  1498648659  0.015907        0\n",
      "24  1498648660  0.015935        0\n",
      "Wed Jun 28 13:17:49 2017 Updating trade: .\\data\\24977478\\0~Poloniex~ETH~BTC.dat\n",
      "Wed Jun 28 13:17:49 2017 Updating current: .\\data\\24977478\\2~Poloniex~ETH~BTC.dat\n",
      "     Timestamp   Value_x  Value_y\n",
      "0   1498648617  0.112770        0\n",
      "1   1498648618  0.112600        0\n",
      "2   1498648619  0.112600        0\n",
      "3   1498648621  0.112648        0\n",
      "4   1498648632  0.112610        0\n",
      "5   1498648633  0.112610        0\n",
      "6   1498648633  0.112520        0\n",
      "7   1498648633  0.112500        0\n",
      "8   1498648633  0.112500        0\n",
      "9   1498648633  0.112500        0\n",
      "10  1498648634  0.112770        0\n",
      "11  1498648634  0.112500        0\n",
      "12  1498648634  0.112500        0\n",
      "13  1498648634  0.112500        0\n",
      "14  1498648634  0.112500        0\n",
      "15  1498648642  0.112648        0\n",
      "16  1498648643  0.112610        0\n",
      "17  1498648644  0.112651        0\n",
      "18  1498648646  0.112770        0\n",
      "19  1498648648  0.112651        0\n",
      "20  1498648648  0.112648        0\n",
      "21  1498648648  0.112520        0\n",
      "22  1498648648  0.112500        0\n",
      "23  1498648648  0.112500        0\n",
      "24  1498648648  0.112500        0\n",
      "25  1498648648  0.112500        0\n",
      "26  1498648648  0.112500        0\n",
      "27  1498648648  0.112500        0\n",
      "28  1498648648  0.112500        0\n",
      "29  1498648648  0.112499        0\n",
      "..         ...       ...      ...\n",
      "55  1498648648  0.112323        0\n",
      "56  1498648648  0.112321        0\n",
      "57  1498648648  0.112321        0\n",
      "58  1498648648  0.112320        0\n",
      "59  1498648648  0.112318        0\n",
      "60  1498648648  0.112303        0\n",
      "61  1498648648  0.112299        0\n",
      "62  1498648648  0.112299        0\n",
      "63  1498648648  0.112296        0\n",
      "64  1498648648  0.112291        0\n",
      "65  1498648648  0.112287        0\n",
      "66  1498648648  0.112272        0\n",
      "67  1498648648  0.112271        0\n",
      "68  1498648648  0.112259        0\n",
      "69  1498648648  0.112257        0\n",
      "70  1498648648  0.112246        0\n",
      "71  1498648648  0.112244        0\n",
      "72  1498648648  0.112236        0\n",
      "73  1498648648  0.112229        0\n",
      "74  1498648648  0.112770        0\n",
      "75  1498648649  0.112300        0\n",
      "76  1498648649  0.112229        0\n",
      "77  1498648649  0.112300        0\n",
      "78  1498648649  0.112300        0\n",
      "79  1498648650  0.112300        0\n",
      "80  1498648653  0.112648        0\n",
      "81  1498648656  0.112648        0\n",
      "82  1498648659  0.112401        0\n",
      "83  1498648659  0.112229        0\n",
      "84  1498648660  0.112229        0\n",
      "\n",
      "[85 rows x 3 columns]\n",
      "Wed Jun 28 13:17:50 2017 Updating trade: .\\data\\24977478\\0~Poloniex~ETH~BTC.dat\n",
      "Wed Jun 28 13:17:50 2017 Updating current: .\\data\\24977478\\2~Poloniex~ETH~BTC.dat\n",
      "     Timestamp   Value_x  Value_y\n",
      "0   1498648617  0.112770        0\n",
      "1   1498648618  0.112600        0\n",
      "2   1498648619  0.112600        0\n",
      "3   1498648621  0.112648        0\n",
      "4   1498648632  0.112610        0\n",
      "5   1498648633  0.112610        0\n",
      "6   1498648633  0.112520        0\n",
      "7   1498648633  0.112500        0\n",
      "8   1498648633  0.112500        0\n",
      "9   1498648633  0.112500        0\n",
      "10  1498648634  0.112770        0\n",
      "11  1498648634  0.112500        0\n",
      "12  1498648634  0.112500        0\n",
      "13  1498648634  0.112500        0\n",
      "14  1498648634  0.112500        0\n",
      "15  1498648642  0.112648        0\n",
      "16  1498648643  0.112610        0\n",
      "17  1498648644  0.112651        0\n",
      "18  1498648646  0.112770        0\n",
      "19  1498648648  0.112651        0\n",
      "20  1498648648  0.112648        0\n",
      "21  1498648648  0.112520        0\n",
      "22  1498648648  0.112500        0\n",
      "23  1498648648  0.112500        0\n",
      "24  1498648648  0.112500        0\n",
      "25  1498648648  0.112500        0\n",
      "26  1498648648  0.112500        0\n",
      "27  1498648648  0.112500        0\n",
      "28  1498648648  0.112500        0\n",
      "29  1498648648  0.112499        0\n",
      "..         ...       ...      ...\n",
      "58  1498648648  0.112320        0\n",
      "59  1498648648  0.112318        0\n",
      "60  1498648648  0.112303        0\n",
      "61  1498648648  0.112299        0\n",
      "62  1498648648  0.112299        0\n",
      "63  1498648648  0.112296        0\n",
      "64  1498648648  0.112291        0\n",
      "65  1498648648  0.112287        0\n",
      "66  1498648648  0.112272        0\n",
      "67  1498648648  0.112271        0\n",
      "68  1498648648  0.112259        0\n",
      "69  1498648648  0.112257        0\n",
      "70  1498648648  0.112246        0\n",
      "71  1498648648  0.112244        0\n",
      "72  1498648648  0.112236        0\n",
      "73  1498648648  0.112229        0\n",
      "74  1498648648  0.112770        0\n",
      "75  1498648649  0.112300        0\n",
      "76  1498648649  0.112229        0\n",
      "77  1498648649  0.112300        0\n",
      "78  1498648649  0.112300        0\n",
      "79  1498648650  0.112300        0\n",
      "80  1498648653  0.112648        0\n",
      "81  1498648656  0.112648        0\n",
      "82  1498648659  0.112401        0\n",
      "83  1498648659  0.112229        0\n",
      "84  1498648660  0.112229        0\n",
      "85  1498648661  0.112648        0\n",
      "86  1498648661  0.112648        0\n",
      "87  1498648662  0.112648        0\n",
      "\n",
      "[88 rows x 3 columns]\n"
     ]
    },
    {
     "ename": "KeyboardInterrupt",
     "evalue": "",
     "output_type": "error",
     "traceback": [
      "\u001b[1;31m---------------------------------------------------------------------------\u001b[0m",
      "\u001b[1;31mKeyboardInterrupt\u001b[0m                         Traceback (most recent call last)",
      "\u001b[1;32m<ipython-input-119-a1e8625355e4>\u001b[0m in \u001b[0;36m<module>\u001b[1;34m()\u001b[0m\n\u001b[0;32m     38\u001b[0m     \u001b[0mlist_of_changed_files\u001b[0m \u001b[1;33m=\u001b[0m \u001b[1;33m[\u001b[0m\u001b[1;33m]\u001b[0m\u001b[1;33m\u001b[0m\u001b[0m\n\u001b[0;32m     39\u001b[0m \u001b[1;33m\u001b[0m\u001b[0m\n\u001b[1;32m---> 40\u001b[1;33m     \u001b[0mtime\u001b[0m\u001b[1;33m.\u001b[0m\u001b[0msleep\u001b[0m\u001b[1;33m(\u001b[0m\u001b[1;36m1\u001b[0m\u001b[1;33m)\u001b[0m\u001b[1;33m\u001b[0m\u001b[0m\n\u001b[0m",
      "\u001b[1;31mKeyboardInterrupt\u001b[0m: "
     ]
    }
   ],
   "source": [
    "last_changed_times = []\n",
    "last_changed_times_tmp = []\n",
    "list_of_changed_files = []\n",
    "last_time = 0\n",
    "\n",
    "time_divider = 60 #60*10 ... ten minutes\n",
    "\n",
    "last_time = -1\n",
    "\n",
    "while True: #for i in range(120):     #while True:\n",
    "    now_time = str(round(time.time()/time_divider))\n",
    "    time_changed = False\n",
    "    if last_time != now_time:\n",
    "        last_changed_times_tmp = []\n",
    "        time_changed = True\n",
    "        last_time = now_time\n",
    "        files_name = glob.glob('.\\\\data\\\\' + last_time + '\\\\*.dat')\n",
    "        for fname in files_name:\n",
    "            last_change_time_file = get_file_last_time_of_change(fname)\n",
    "            last_changed_times_tmp.append(last_change_time_file)\n",
    "        \n",
    "    if not time_changed:\n",
    "        files_name = glob.glob('.\\\\data\\\\' + now_time + '\\\\*.dat')\n",
    "\n",
    "    for fname in files_name:\n",
    "        last_changed_times.append(get_file_last_time_of_change(fname))\n",
    "\n",
    "    if len(last_changed_times) > len(last_changed_times_tmp):\n",
    "        last_changed_times_tmp = last_changed_times\n",
    "        \n",
    "    for j in range(len(files_name)):\n",
    "        if last_changed_times_tmp[j] != last_changed_times[j]:\n",
    "            list_of_changed_files.append(files_name[j])\n",
    "    last_changed_times_tmp = last_changed_times\n",
    "    last_changed_times = []\n",
    "    \n",
    "    process_changed_files(list_of_changed_files)\n",
    "    list_of_changed_files = []\n",
    "    \n",
    "    time.sleep(1)   "
   ]
  },
  {
   "cell_type": "code",
   "execution_count": null,
   "metadata": {
    "collapsed": true
   },
   "outputs": [],
   "source": [
    "translate_fname = {'2~Poloniex~BTC~USD.dat': 'curr_BTC_USD', '2~Poloniex~ETH~BTC.dat': 'curr_ETH_BTC',\n",
    "                   '2~Poloniex~ETH~USD.dat': 'curr_ETH_USD', '2~Poloniex~LTC~BTC.dat': 'curr_LTC_BTC',\n",
    "                   '2~Poloniex~LTC~USD.dat': 'curr_LTC_USD'}"
   ]
  },
  {
   "cell_type": "code",
   "execution_count": null,
   "metadata": {},
   "outputs": [],
   "source": [
    "translate_fname['2~Poloniex~BTC~USD.dat']"
   ]
  },
  {
   "cell_type": "code",
   "execution_count": null,
   "metadata": {
    "collapsed": true
   },
   "outputs": [],
   "source": []
  },
  {
   "cell_type": "code",
   "execution_count": null,
   "metadata": {
    "collapsed": true
   },
   "outputs": [],
   "source": [
    "asasdasdasdasd"
   ]
  },
  {
   "cell_type": "code",
   "execution_count": null,
   "metadata": {
    "collapsed": true
   },
   "outputs": [],
   "source": []
  },
  {
   "cell_type": "code",
   "execution_count": null,
   "metadata": {
    "collapsed": true
   },
   "outputs": [],
   "source": []
  },
  {
   "cell_type": "code",
   "execution_count": null,
   "metadata": {
    "collapsed": true
   },
   "outputs": [],
   "source": []
  },
  {
   "cell_type": "code",
   "execution_count": null,
   "metadata": {
    "collapsed": true
   },
   "outputs": [],
   "source": []
  },
  {
   "cell_type": "code",
   "execution_count": null,
   "metadata": {
    "collapsed": true
   },
   "outputs": [],
   "source": []
  },
  {
   "cell_type": "code",
   "execution_count": null,
   "metadata": {
    "collapsed": true
   },
   "outputs": [],
   "source": []
  },
  {
   "cell_type": "code",
   "execution_count": null,
   "metadata": {
    "collapsed": true
   },
   "outputs": [],
   "source": []
  },
  {
   "cell_type": "code",
   "execution_count": null,
   "metadata": {
    "collapsed": true
   },
   "outputs": [],
   "source": []
  },
  {
   "cell_type": "code",
   "execution_count": null,
   "metadata": {
    "collapsed": true
   },
   "outputs": [],
   "source": []
  },
  {
   "cell_type": "code",
   "execution_count": null,
   "metadata": {
    "collapsed": true
   },
   "outputs": [],
   "source": []
  },
  {
   "cell_type": "code",
   "execution_count": null,
   "metadata": {
    "collapsed": true
   },
   "outputs": [],
   "source": []
  },
  {
   "cell_type": "code",
   "execution_count": null,
   "metadata": {
    "collapsed": true
   },
   "outputs": [],
   "source": []
  }
 ],
 "metadata": {
  "kernelspec": {
   "display_name": "Python 3",
   "language": "python",
   "name": "python3"
  },
  "language_info": {
   "codemirror_mode": {
    "name": "ipython",
    "version": 3
   },
   "file_extension": ".py",
   "mimetype": "text/x-python",
   "name": "python",
   "nbconvert_exporter": "python",
   "pygments_lexer": "ipython3",
   "version": "3.5.3"
  }
 },
 "nbformat": 4,
 "nbformat_minor": 2
}
