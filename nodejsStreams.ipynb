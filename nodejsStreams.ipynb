{
 "cells": [
  {
   "cell_type": "code",
   "execution_count": 66,
   "metadata": {
    "collapsed": true
   },
   "outputs": [],
   "source": [
    "import os, glob, time"
   ]
  },
  {
   "cell_type": "code",
   "execution_count": 9,
   "metadata": {
    "collapsed": true
   },
   "outputs": [],
   "source": [
    "def get_file_last_time_of_change(fname):\n",
    "    try:\n",
    "        mtime = os.path.getmtime(fname)\n",
    "    except OSError:\n",
    "        mtime = 0\n",
    "    return mtime"
   ]
  },
  {
   "cell_type": "code",
   "execution_count": 83,
   "metadata": {
    "collapsed": true
   },
   "outputs": [],
   "source": [
    "def process_changed_files(list_of_changed_files):\n",
    "    for fname in list_of_changed_files:\n",
    "        print(fname)"
   ]
  },
  {
   "cell_type": "code",
   "execution_count": null,
   "metadata": {
    "collapsed": true
   },
   "outputs": [],
   "source": [
    "def update_trade():\n",
    "    "
   ]
  },
  {
   "cell_type": "code",
   "execution_count": null,
   "metadata": {
    "collapsed": true
   },
   "outputs": [],
   "source": [
    "def update_current():\n",
    "    "
   ]
  },
  {
   "cell_type": "code",
   "execution_count": 88,
   "metadata": {},
   "outputs": [
    {
     "name": "stdout",
     "output_type": "stream",
     "text": [
      ".\\data\\0~Poloniex~BTC~USD.dat\n",
      ".\\data\\2~Poloniex~BTC~USD.dat\n",
      ".\\data\\0~Poloniex~ETH~USD.dat\n",
      ".\\data\\2~Poloniex~ETH~USD.dat\n",
      ".\\data\\0~Poloniex~LTC~BTC.dat\n",
      ".\\data\\2~Poloniex~LTC~BTC.dat\n",
      ".\\data\\0~Poloniex~BTC~USD.dat\n",
      ".\\data\\2~Poloniex~BTC~USD.dat\n",
      ".\\data\\0~Poloniex~ETH~BTC.dat\n",
      ".\\data\\2~Poloniex~ETH~BTC.dat\n",
      ".\\data\\0~Poloniex~ETH~USD.dat\n",
      ".\\data\\2~Poloniex~ETH~USD.dat\n",
      ".\\data\\0~Poloniex~ETH~USD.dat\n",
      ".\\data\\0~Poloniex~LTC~BTC.dat\n",
      ".\\data\\2~Poloniex~ETH~USD.dat\n",
      ".\\data\\2~Poloniex~LTC~BTC.dat\n",
      ".\\data\\0~Poloniex~ETH~BTC.dat\n",
      ".\\data\\2~Poloniex~ETH~BTC.dat\n",
      ".\\data\\0~Poloniex~BTC~USD.dat\n",
      ".\\data\\2~Poloniex~BTC~USD.dat\n"
     ]
    }
   ],
   "source": [
    "os.chdir(os.getcwd())\n",
    "last_changed_times = []\n",
    "last_changed_times_tmp = []\n",
    "list_of_changed_files = []\n",
    "\n",
    "for fname in files_name:\n",
    "        last_changed_times_tmp.append(get_file_last_time_of_change(fname))\n",
    "files_name = glob.glob(\".\\data\\*.dat\")\n",
    "\n",
    "for i in range(120):     #while True:\n",
    "    for fname in files_name:\n",
    "        last_changed_times.append(get_file_last_time_of_change(fname))\n",
    "    for j in range(len(files_name)):\n",
    "        if last_changed_times_tmp[j] != last_changed_times[j]:\n",
    "            list_of_changed_files.append(files_name[j])\n",
    "            #print(files_name[j], last_changed_times[j], last_changed_times_tmp[j])\n",
    "    last_changed_times_tmp = last_changed_times\n",
    "    last_changed_times = []\n",
    "    \n",
    "    process_changed_files(list_of_changed_files)\n",
    "    list_of_changed_files = []\n",
    "    \n",
    "    time.sleep(1)\n",
    "    "
   ]
  },
  {
   "cell_type": "code",
   "execution_count": 74,
   "metadata": {
    "scrolled": true
   },
   "outputs": [
    {
     "data": {
      "text/plain": [
       "[1498224158.3308072,\n",
       " 1498224136.2441182,\n",
       " 1498224124.0571418,\n",
       " 1498224174.183735,\n",
       " 1498224116.0741751,\n",
       " 1498224158.3308072,\n",
       " 1498224136.2441182,\n",
       " 1498224124.0586421,\n",
       " 1498224174.1932359,\n",
       " 1498224116.0766752]"
      ]
     },
     "execution_count": 74,
     "metadata": {},
     "output_type": "execute_result"
    }
   ],
   "source": [
    "last_changed_times_tmp"
   ]
  },
  {
   "cell_type": "code",
   "execution_count": 75,
   "metadata": {},
   "outputs": [
    {
     "data": {
      "text/plain": [
       "[]"
      ]
     },
     "execution_count": 75,
     "metadata": {},
     "output_type": "execute_result"
    }
   ],
   "source": [
    "last_changed_times"
   ]
  },
  {
   "cell_type": "code",
   "execution_count": null,
   "metadata": {
    "collapsed": true
   },
   "outputs": [],
   "source": []
  },
  {
   "cell_type": "code",
   "execution_count": null,
   "metadata": {
    "collapsed": true
   },
   "outputs": [],
   "source": []
  },
  {
   "cell_type": "code",
   "execution_count": null,
   "metadata": {
    "collapsed": true
   },
   "outputs": [],
   "source": []
  },
  {
   "cell_type": "code",
   "execution_count": null,
   "metadata": {
    "collapsed": true
   },
   "outputs": [],
   "source": []
  },
  {
   "cell_type": "code",
   "execution_count": null,
   "metadata": {
    "collapsed": true
   },
   "outputs": [],
   "source": []
  }
 ],
 "metadata": {
  "kernelspec": {
   "display_name": "Python 3",
   "language": "python",
   "name": "python3"
  },
  "language_info": {
   "codemirror_mode": {
    "name": "ipython",
    "version": 3
   },
   "file_extension": ".py",
   "mimetype": "text/x-python",
   "name": "python",
   "nbconvert_exporter": "python",
   "pygments_lexer": "ipython3",
   "version": "3.5.3"
  }
 },
 "nbformat": 4,
 "nbformat_minor": 2
}
